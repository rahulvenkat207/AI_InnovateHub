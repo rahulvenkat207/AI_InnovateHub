{
  "nbformat": 4,
  "nbformat_minor": 0,
  "metadata": {
    "colab": {
      "provenance": [],
      "authorship_tag": "ABX9TyMNX0kIp8Iy3Fb6HmC/JToN",
      "include_colab_link": true
    },
    "kernelspec": {
      "name": "python3",
      "display_name": "Python 3"
    },
    "language_info": {
      "name": "python"
    }
  },
  "cells": [
    {
      "cell_type": "markdown",
      "metadata": {
        "id": "view-in-github",
        "colab_type": "text"
      },
      "source": [
        "<a href=\"https://colab.research.google.com/github/rahulvenkat207/AI_InnovateHub/blob/main/ID3prgm.ipynb\" target=\"_parent\"><img src=\"https://colab.research.google.com/assets/colab-badge.svg\" alt=\"Open In Colab\"/></a>"
      ]
    },
    {
      "cell_type": "code",
      "source": [
        "import numpy as np\n",
        "import pandas as pd\n",
        "from numpy import log2\n",
        "eps = np.finfo(float).eps"
      ],
      "metadata": {
        "id": "_izVKxZUnCkx"
      },
      "execution_count": 2,
      "outputs": []
    },
    {
      "cell_type": "markdown",
      "source": [
        "Entropy Funciton for target variable"
      ],
      "metadata": {
        "id": "lPpQaBV5rm6m"
      }
    },
    {
      "cell_type": "code",
      "source": [
        "def find_entropy(df):\n",
        "  Class = df.keys()[-1]\n",
        "  entropy = 0\n",
        "  values = df[Class].unique()\n",
        "  for value in values:\n",
        "    fraction = df[Class].value_counts()[value]/len(df[Class])\n",
        "    entropy += -fraction * np.log2(fraction)\n",
        "  return entropy"
      ],
      "metadata": {
        "id": "PA1vkwQZrqjS"
      },
      "execution_count": 3,
      "outputs": []
    },
    {
      "cell_type": "markdown",
      "source": [
        "Entropy function for attributes"
      ],
      "metadata": {
        "id": "eo541neUtAiI"
      }
    },
    {
      "cell_type": "code",
      "source": [
        "def find_entropy_attribute(df, attribute):\n",
        "    Class = df.keys()[-1]\n",
        "    target_variables = df[Class].unique()\n",
        "    variables = df[attribute].unique()\n",
        "    entropy2 = 0\n",
        "    for variable in variables:\n",
        "        entropy = 0\n",
        "        den = len(df[attribute][df[attribute] == variable])\n",
        "        for target_variable in target_variables:\n",
        "            num = len(df[attribute][df[attribute] == variable][df[Class] == target_variable])\n",
        "            fraction = num / (den + eps)\n",
        "            entropy += -fraction * np.log2(fraction + eps)\n",
        "        fraction2 = den / len(df)\n",
        "        entropy2 += fraction2 * entropy\n",
        "    return abs(entropy2)\n"
      ],
      "metadata": {
        "id": "QLZSRoC84VPU"
      },
      "execution_count": 4,
      "outputs": []
    },
    {
      "cell_type": "markdown",
      "source": [
        "Calculating Information Gain and returning the attribute with high Information gain"
      ],
      "metadata": {
        "id": "QlKDJ8DztH5h"
      }
    },
    {
      "cell_type": "code",
      "source": [
        "def find_winner(df):\n",
        "  Entropy_att = []\n",
        "  IG = []\n",
        "  for key in df.keys()[:-1]:\n",
        "    Entropy_att.append(find_entropy_attribute(df,key))\n",
        "    IG.append(find_entropy(df) - find_entropy_attribute(df,key))\n",
        "  return df.keys()[:-1][np.argmax(IG)]"
      ],
      "metadata": {
        "id": "S51x6wtY548S"
      },
      "execution_count": 5,
      "outputs": []
    },
    {
      "cell_type": "code",
      "source": [
        "def get_suitable(df, node, value):\n",
        "  return df[df[node] == value].reset_index(drop = True)\n"
      ],
      "metadata": {
        "id": "LB_5j6r96gcx"
      },
      "execution_count": 6,
      "outputs": []
    },
    {
      "cell_type": "code",
      "source": [
        "def build_Tree(df, tree = None):\n",
        "  Class = df.keys()[-1]\n",
        "  node = find_winner(df)\n",
        "  attValue = np.unique(df[node])\n",
        "  if tree is None:\n",
        "    tree = {}\n",
        "    tree[node] = {}\n",
        "    for value in attValue:\n",
        "      subtable = get_suitable(df, node, value)\n",
        "      clValue, counts = np.unique(subtable['play'], return_counts = True)\n",
        "      if len(counts) ==1:\n",
        "        tree[node][value] = clValue[0]\n",
        "      else:\n",
        "        tree[node][value] = build_Tree(subtable)\n",
        "  return tree\n"
      ],
      "metadata": {
        "id": "3epsgP9w-5od"
      },
      "execution_count": 7,
      "outputs": []
    },
    {
      "cell_type": "code",
      "source": [
        "df = pd.read_csv('/content/tennis_data.csv')\n",
        "print(\"\\n Given Play Tennis Data Set: \\n\\n \",df)\n",
        "tree = build_Tree(df)\n",
        "import pprint\n",
        "pprint.pprint(tree)"
      ],
      "metadata": {
        "id": "NpgQrR1EDb48",
        "colab": {
          "base_uri": "https://localhost:8080/"
        },
        "outputId": "104d03ef-881f-4187-9a9a-69a9cde6ee14"
      },
      "execution_count": 8,
      "outputs": [
        {
          "output_type": "stream",
          "name": "stdout",
          "text": [
            "\n",
            " Given Play Tennis Data Set: \n",
            "\n",
            "       Outlook Temperature Humidity    Wind play\n",
            "0      Sunny         Hot     High    Weak   No\n",
            "1      Sunny         Hot     High  Strong   No\n",
            "2   Overcast         Hot     High    Weak  Yes\n",
            "3       Rain        Mild     High    Weak  Yes\n",
            "4       Rain        Cool   Normal    Weak  Yes\n",
            "5       Rain        Cool   Normal  Strong   No\n",
            "6   Overcast        Cool   Normal  Strong  Yes\n",
            "7      Sunny        Mild     High    Weak   No\n",
            "8      Sunny        Cool   Normal    Weak  Yes\n",
            "9       Rain        Mild   Normal    Weak  Yes\n",
            "10     Sunny        Mild   Normal  Strong  Yes\n",
            "11  Overcast        Mild     High  Strong  Yes\n",
            "12  Overcast         Hot   Normal    Weak  Yes\n",
            "13      Rain        Mild     High  Strong   No\n",
            "{'Outlook': {'Overcast': 'Yes',\n",
            "             'Rain': {'Wind': {'Strong': 'No', 'Weak': 'Yes'}},\n",
            "             'Sunny': {'Humidity': {'High': 'No', 'Normal': 'Yes'}}}}\n"
          ]
        }
      ]
    },
    {
      "cell_type": "code",
      "source": [
        "import graphviz\n",
        "\n",
        "def visualize_tree(tree, parent=None, graph=None):\n",
        "    if graph is None:\n",
        "        graph = graphviz.Digraph(node_attr={'shape': 'oval'})\n",
        "\n",
        "    for node, children in tree.items():\n",
        "        if isinstance(children, dict):\n",
        "            if parent is not None:\n",
        "                if parent != 'Overcast':\n",
        "                    graph.edge(parent, node)\n",
        "            visualize_tree(children, node, graph)\n",
        "        else:\n",
        "            if parent is not None:\n",
        "                if parent != 'Overcast':\n",
        "                    graph.node(parent, label=parent, shape='oval')\n",
        "                graph.node(node, label=children, shape='rectangle', style='filled', fillcolor='lightgray')\n",
        "                graph.edge(parent, node, label=node)\n",
        "            else:\n",
        "                graph.node(node, label=children, shape='oval')\n",
        "\n",
        "    return graph\n",
        "\n",
        "# Example decision tree\n",
        "example_tree = {\n",
        "    'Outlook': {\n",
        "        'Sunny': {\n",
        "            'Humidity': {\n",
        "                'High': 'Decision: No',\n",
        "                'Normal': 'Decision: Yes'\n",
        "            }\n",
        "        },\n",
        "        'Overcast': 'Decision: Yes',  # Overcast leads to Decision: Yes\n",
        "        'Rainy': {\n",
        "            'Wind': {\n",
        "                'Weak': 'Decision: Yes',\n",
        "                'Strong': 'Decision: No'\n",
        "            }\n",
        "        }\n",
        "    }\n",
        "}\n",
        "\n",
        "# Visualize the decision tree\n",
        "graph = visualize_tree(example_tree)\n",
        "\n",
        "# Render the decision tree to a PNG file\n",
        "graph.render('decision_tree', format='png', cleanup=True)\n"
      ],
      "metadata": {
        "colab": {
          "base_uri": "https://localhost:8080/",
          "height": 36
        },
        "id": "cpkU-B25FMNk",
        "outputId": "900e3681-8f86-4ff5-b11a-25e59b1c6148"
      },
      "execution_count": 4,
      "outputs": [
        {
          "output_type": "execute_result",
          "data": {
            "text/plain": [
              "'decision_tree.png'"
            ],
            "application/vnd.google.colaboratory.intrinsic+json": {
              "type": "string"
            }
          },
          "metadata": {},
          "execution_count": 4
        }
      ]
    },
    {
      "cell_type": "code",
      "source": [
        "from IPython.display import Image\n",
        "Image(filename = '/content/decision_tree.png')"
      ],
      "metadata": {
        "colab": {
          "base_uri": "https://localhost:8080/",
          "height": 405
        },
        "id": "Wsui6dlyIFY4",
        "outputId": "a3ff881e-e808-42c5-d280-b14b2414cbd8"
      },
      "execution_count": 5,
      "outputs": [
        {
          "output_type": "execute_result",
          "data": {
            "image/png": "[encoded data removed]",
            "text/plain": [
              "<IPython.core.display.Image object>"
            ]
          },
          "metadata": {},
          "execution_count": 5
        }
      ]
    },
    {
      "cell_type": "code",
      "source": [],
      "metadata": {
        "id": "I6RnyNcesF5w"
      },
      "execution_count": null,
      "outputs": []
    }
  ]
}